{
 "cells": [
  {
   "cell_type": "code",
   "execution_count": 2,
   "metadata": {},
   "outputs": [],
   "source": [
    "import sqlite3 \n",
    "import pandas as pd\n",
    "import plotly.express as px\n",
    "import matplotlib.pyplot as plt\n",
    "import numpy as np\n",
    "import seaborn as sns"
   ]
  },
  {
   "cell_type": "markdown",
   "metadata": {},
   "source": [
    "#Calculez entre 2019 et 2022 la somme du nombre d’objets trouvés par semaine. Afficher sur un histogramme plotly la répartition de ces valeurs. (un point correspond à une semaine dont la valeur est la somme). (On peut choisir d’afficher ou non certains types d’objet)."
   ]
  },
  {
   "cell_type": "code",
   "execution_count": 4,
   "metadata": {},
   "outputs": [
    {
     "name": "stderr",
     "output_type": "stream",
     "text": [
      "/tmp/ipykernel_77315/827910197.py:3: SettingWithCopyWarning: \n",
      "A value is trying to be set on a copy of a slice from a DataFrame\n",
      "\n",
      "See the caveats in the documentation: https://pandas.pydata.org/pandas-docs/stable/user_guide/indexing.html#returning-a-view-versus-a-copy\n",
      "  daf.rename(columns={\"fields.date\":\"date\"},inplace=True)\n",
      "/tmp/ipykernel_77315/827910197.py:4: SettingWithCopyWarning: \n",
      "A value is trying to be set on a copy of a slice from a DataFrame\n",
      "\n",
      "See the caveats in the documentation: https://pandas.pydata.org/pandas-docs/stable/user_guide/indexing.html#returning-a-view-versus-a-copy\n",
      "  daf.rename(columns={\"fields.gc_obo_type_c\":\"type\"},inplace=True)\n",
      "/tmp/ipykernel_77315/827910197.py:5: SettingWithCopyWarning: \n",
      "A value is trying to be set on a copy of a slice from a DataFrame\n",
      "\n",
      "See the caveats in the documentation: https://pandas.pydata.org/pandas-docs/stable/user_guide/indexing.html#returning-a-view-versus-a-copy\n",
      "  daf.rename(columns={\"fields.gc_obo_gare_origine_r_name\":\"nom_gare\"},inplace=True)\n",
      "/tmp/ipykernel_77315/827910197.py:7: SettingWithCopyWarning: \n",
      "A value is trying to be set on a copy of a slice from a DataFrame.\n",
      "Try using .loc[row_indexer,col_indexer] = value instead\n",
      "\n",
      "See the caveats in the documentation: https://pandas.pydata.org/pandas-docs/stable/user_guide/indexing.html#returning-a-view-versus-a-copy\n",
      "  daf['date']=daf['date'].apply(lambda x : x [:10])\n"
     ]
    },
    {
     "data": {
      "text/html": [
       "<div>\n",
       "<style scoped>\n",
       "    .dataframe tbody tr th:only-of-type {\n",
       "        vertical-align: middle;\n",
       "    }\n",
       "\n",
       "    .dataframe tbody tr th {\n",
       "        vertical-align: top;\n",
       "    }\n",
       "\n",
       "    .dataframe thead th {\n",
       "        text-align: right;\n",
       "    }\n",
       "</style>\n",
       "<table border=\"1\" class=\"dataframe\">\n",
       "  <thead>\n",
       "    <tr style=\"text-align: right;\">\n",
       "      <th></th>\n",
       "      <th>type</th>\n",
       "      <th>nom_gare</th>\n",
       "      <th>date</th>\n",
       "    </tr>\n",
       "  </thead>\n",
       "  <tbody>\n",
       "    <tr>\n",
       "      <th>0</th>\n",
       "      <td>Porte-monnaie / portefeuille, argent, titres</td>\n",
       "      <td>Paris Est</td>\n",
       "      <td>2022-01-03</td>\n",
       "    </tr>\n",
       "    <tr>\n",
       "      <th>1</th>\n",
       "      <td>Porte-monnaie / portefeuille, argent, titres</td>\n",
       "      <td>Paris Est</td>\n",
       "      <td>2022-01-03</td>\n",
       "    </tr>\n",
       "    <tr>\n",
       "      <th>2</th>\n",
       "      <td>Bagagerie: sacs, valises, cartables</td>\n",
       "      <td>Paris Est</td>\n",
       "      <td>2022-01-03</td>\n",
       "    </tr>\n",
       "    <tr>\n",
       "      <th>3</th>\n",
       "      <td>Pièces d'identités et papiers personnels</td>\n",
       "      <td>Paris Est</td>\n",
       "      <td>2022-01-03</td>\n",
       "    </tr>\n",
       "    <tr>\n",
       "      <th>4</th>\n",
       "      <td>Appareils électroniques, informatiques, appare...</td>\n",
       "      <td>Paris Est</td>\n",
       "      <td>2022-01-03</td>\n",
       "    </tr>\n",
       "    <tr>\n",
       "      <th>...</th>\n",
       "      <td>...</td>\n",
       "      <td>...</td>\n",
       "      <td>...</td>\n",
       "    </tr>\n",
       "    <tr>\n",
       "      <th>81627</th>\n",
       "      <td>Bagagerie: sacs, valises, cartables</td>\n",
       "      <td>Paris Bercy</td>\n",
       "      <td>2022-12-27</td>\n",
       "    </tr>\n",
       "    <tr>\n",
       "      <th>81628</th>\n",
       "      <td>Bagagerie: sacs, valises, cartables</td>\n",
       "      <td>Paris Bercy</td>\n",
       "      <td>2022-12-27</td>\n",
       "    </tr>\n",
       "    <tr>\n",
       "      <th>81629</th>\n",
       "      <td>Clés, porte-clés, badge magnétique</td>\n",
       "      <td>Paris Bercy</td>\n",
       "      <td>2022-12-27</td>\n",
       "    </tr>\n",
       "    <tr>\n",
       "      <th>81630</th>\n",
       "      <td>Bagagerie: sacs, valises, cartables</td>\n",
       "      <td>Paris Bercy</td>\n",
       "      <td>2022-12-28</td>\n",
       "    </tr>\n",
       "    <tr>\n",
       "      <th>81631</th>\n",
       "      <td>Divers</td>\n",
       "      <td>Paris Bercy</td>\n",
       "      <td>2022-12-30</td>\n",
       "    </tr>\n",
       "  </tbody>\n",
       "</table>\n",
       "<p>81632 rows × 3 columns</p>\n",
       "</div>"
      ],
      "text/plain": [
       "                                                    type     nom_gare  \\\n",
       "0           Porte-monnaie / portefeuille, argent, titres    Paris Est   \n",
       "1           Porte-monnaie / portefeuille, argent, titres    Paris Est   \n",
       "2                    Bagagerie: sacs, valises, cartables    Paris Est   \n",
       "3               Pièces d'identités et papiers personnels    Paris Est   \n",
       "4      Appareils électroniques, informatiques, appare...    Paris Est   \n",
       "...                                                  ...          ...   \n",
       "81627                Bagagerie: sacs, valises, cartables  Paris Bercy   \n",
       "81628                Bagagerie: sacs, valises, cartables  Paris Bercy   \n",
       "81629                 Clés, porte-clés, badge magnétique  Paris Bercy   \n",
       "81630                Bagagerie: sacs, valises, cartables  Paris Bercy   \n",
       "81631                                             Divers  Paris Bercy   \n",
       "\n",
       "             date  \n",
       "0      2022-01-03  \n",
       "1      2022-01-03  \n",
       "2      2022-01-03  \n",
       "3      2022-01-03  \n",
       "4      2022-01-03  \n",
       "...           ...  \n",
       "81627  2022-12-27  \n",
       "81628  2022-12-27  \n",
       "81629  2022-12-27  \n",
       "81630  2022-12-28  \n",
       "81631  2022-12-30  \n",
       "\n",
       "[81632 rows x 3 columns]"
      ]
     },
     "execution_count": 4,
     "metadata": {},
     "output_type": "execute_result"
    }
   ],
   "source": [
    "df= pd.read_csv(\"concat.csv\")\n",
    "daf=df[['fields.gc_obo_type_c', 'fields.gc_obo_gare_origine_r_name','fields.date']]\n",
    "daf.rename(columns={\"fields.date\":\"date\"},inplace=True)\n",
    "daf.rename(columns={\"fields.gc_obo_type_c\":\"type\"},inplace=True)\n",
    "daf.rename(columns={\"fields.gc_obo_gare_origine_r_name\":\"nom_gare\"},inplace=True)\n",
    "# daf['date'] = daf['date'].str.slice(stop=10)\n",
    "daf['date']=daf['date'].apply(lambda x : x [:10])\n",
    "daf"
   ]
  },
  {
   "cell_type": "code",
   "execution_count": 6,
   "metadata": {},
   "outputs": [],
   "source": [
    "# fig = px.histogram(daf, x='date', nbins=200, title='Histogramme des objets perdus par semaine')\n",
    "# fig.update_xaxes(\n",
    "#     tickformat=\"%b %Y\",\n",
    "#     dtick=\"W1\",\n",
    "#     ticklabelmode=\"period\"\n",
    "# )\n",
    "\n",
    "# # Afficher le graphique\n",
    "# fig.show()"
   ]
  },
  {
   "cell_type": "code",
   "execution_count": null,
   "metadata": {},
   "outputs": [],
   "source": [
    "fig = px.line(df, x = 'week', y = 'objets_perdu', title='Apple Share Prices over time (2014)')\n",
    "fig.show()"
   ]
  },
  {
   "cell_type": "markdown",
   "metadata": {},
   "source": [
    "#Afficher une carte de Paris avec le nombre d’objets trouvés en fonction de la fréquentation de voyageur de chaque gare. Possibilité de faire varier par année et par type d’objets"
   ]
  },
  {
   "cell_type": "code",
   "execution_count": null,
   "metadata": {},
   "outputs": [],
   "source": []
  },
  {
   "cell_type": "markdown",
   "metadata": {},
   "source": [
    "#Afficher le nombre d’objets trouvés en fonction de la température sur un scatterplot. Est ce que le nombre d’objets perdus est corrélé à la temperature d'après ce graphique?"
   ]
  },
  {
   "cell_type": "code",
   "execution_count": 1,
   "metadata": {},
   "outputs": [
    {
     "data": {
      "image/png": "[encoded data removed]",
      "text/plain": [
       "<Figure size 640x480 with 1 Axes>"
      ]
     },
     "metadata": {},
     "output_type": "display_data"
    }
   ],
   "source": [
    "import sqlite3 \n",
    "import pandas as pd\n",
    "import plotly.express as px\n",
    "import matplotlib.pyplot as plt\n",
    "\n",
    "connexion=sqlite3.connect('bddt.db')\n",
    "curseur= connexion.cursor()\n",
    "    \n",
    "curseur.execute(\"\"\"\n",
    "                    SELECT meteo.temperature, COUNT(objets_trouves.id) \n",
    "                    FROM objets_trouves\n",
    "                    JOIN meteo ON objets_trouves.date_meteo = meteo.date\n",
    "                    GROUP BY meteo.temperature\n",
    "                    \n",
    "                     \n",
    "                    \n",
    "                    \"\"\")\n",
    "data=curseur.fetchall()\n",
    "\n",
    "x = [point[0] for point in data]\n",
    "y = [point[1] for point in data]\n",
    "\n",
    "# Création du scatter plot\n",
    "plt.scatter(x, y)\n",
    "plt.title(\"nombre objets perdus selon température\")\n",
    "# Affichage du scatter plot\n",
    "plt.show()\n",
    "\n",
    "# fig = px.scatter(df, x=\"temperature\", y=\"nb_objets\")\n",
    "\n",
    "# # Afficher le graphique\n",
    "# fig.show()"
   ]
  },
  {
   "cell_type": "markdown",
   "metadata": {},
   "source": [
    "#Quelle est la médiane du nombre d’objets trouvés en fonction de la saison? Il y a t il une correlation entre ces deux variables d'après le graphique?"
   ]
  },
  {
   "cell_type": "code",
   "execution_count": null,
   "metadata": {},
   "outputs": [],
   "source": [
    "connexion=sqlite3.connect('bddt.db')\n",
    "curseur= connexion.cursor()\n",
    "    \n",
    "curseur.execute(\"\"\"\n",
    "                    SELECT saison.saison, COUNT(objets_trouves.id)\n",
    "                    FROM objets_trouves, \n",
    "                    INNER JOIN saison ON objets_trouves.data = saison.date\n",
    "                    ORDER BY \n",
    "                    GROUP BY objets_trouves.data, saison.saison                 \n",
    "                                                \n",
    "                    \"\"\")\n",
    "temp=curseur.fetchall()\n",
    "temp"
   ]
  },
  {
   "cell_type": "code",
   "execution_count": null,
   "metadata": {},
   "outputs": [],
   "source": [
    "\n",
    "\n",
    "# dictionnaire qui reprend, pour chaque saison, une valeur d'objets trouvés par jour\n",
    "saisons = {}\n",
    "for saison, valeur in temp:\n",
    "    if saison not in saisons:\n",
    "        saisons[saison] = []\n",
    "    saisons[saison].append(valeur)\n",
    "\n",
    "# à partir dictionnaire, reprise de la valeur médiane(à partir des valeurs de chaque saison)\n",
    "for saison, valeurs in saisons.items():\n",
    "    mediane = np.median(valeurs)\n",
    "    print(f\"La valeur médiane pour la saison {saison} est {mediane}.\")"
   ]
  },
  {
   "cell_type": "markdown",
   "metadata": {},
   "source": [
    "#\"Affichez le nombre d'objets trouvés en fonction du type de d'objet et de la saison sur un graphique. Il y a t il une correlation entre ces deux variables d'après le graphique?\""
   ]
  },
  {
   "cell_type": "code",
   "execution_count": 7,
   "metadata": {},
   "outputs": [
    {
     "ename": "NameError",
     "evalue": "name 'dernier' is not defined",
     "output_type": "error",
     "traceback": [
      "\u001b[0;31m---------------------------------------------------------------------------\u001b[0m",
      "\u001b[0;31mNameError\u001b[0m                                 Traceback (most recent call last)",
      "Cell \u001b[0;32mIn[7], line 2\u001b[0m\n\u001b[1;32m      1\u001b[0m data \u001b[39m=\u001b[39m {}\n\u001b[0;32m----> 2\u001b[0m categories \u001b[39m=\u001b[39m \u001b[39mset\u001b[39m([x[\u001b[39m1\u001b[39m] \u001b[39mfor\u001b[39;00m x \u001b[39min\u001b[39;00m dernier])\n\u001b[1;32m      3\u001b[0m \u001b[39m#là t'as une liste de toutes les catégories qui ont été créé\u001b[39;00m\n\u001b[1;32m      4\u001b[0m n_categories \u001b[39m=\u001b[39m \u001b[39mlen\u001b[39m(categories)\n",
      "\u001b[0;31mNameError\u001b[0m: name 'dernier' is not defined"
     ]
    }
   ],
   "source": [
    "data = {}\n",
    "categories = set([x[1] for x in dernier])\n",
    "#là t'as une liste de toutes les catégories qui ont été créé\n",
    "n_categories = len(categories)\n",
    "#reprend le nombre de types différent d'objets\n",
    "palette = sns.color_palette(n_colors=n_categories)\n",
    "#on demande une couleur pr chaque entité de catégorie\n",
    "for saison in ['automne', 'hiver', 'printemps', 'été']:\n",
    "    data[saison] = []\n",
    "    #on crée une nouvelle clé (ds le dico \"data\" pr chaque saison)\n",
    "    for categorie in categories:\n",
    "        #on itére sur chaque catégorie à partir de la saison>> [ex: automne-appareil photo puis jouet etc]\n",
    "        objets_saison = [x[2] for x in dernier if x[0] == saison and x[1] == categorie]\n",
    "        #x[2]>> correspond au nombre d'objets pr chaque cat\n",
    "        #ainsi si [x catégorie] = saison qu'on itére T0, et à la catégorie, on l'ajoute à la liste \n",
    "        #on itére sur chaque ligne: \n",
    "        # if objets_saison:\n",
    "        data[saison].append(sum(objets_saison))\n",
    "        #on fait la somme du nbre d'objets de la liste de automne/jouets (par ex)\n",
    "       \n",
    "        # else:\n",
    "        #     data[saison].append(0)\n",
    "\n",
    "# Créer les barres groupées\n",
    "n_seasons = len(data)\n",
    "bar_width = 0.6 / n_categories\n",
    "opacity = 0.8\n",
    "index = np.arange(n_seasons)\n",
    "#variable est utilisée pour positionner les barres sur l'axe des x lors de la création du graphique à barres\n",
    "for i, categorie in enumerate(categories):\n",
    "    plt.bar(index + i*bar_width, [data[saison][i] for saison in data], bar_width,\n",
    "            alpha=opacity, color=palette[i], label=categorie)\n",
    "\n",
    "# Personnaliser le graphique\n",
    "plt.xlabel('Saison')\n",
    "plt.ylabel('Nombre d\\'objets')\n",
    "plt.title('Nombre d\\'objets par saison et par catégorie')\n",
    "plt.xticks(index + bar_width*6, ['Automne', 'Hiver', 'Printemps', 'Été'])\n",
    "plt.legend(bbox_to_anchor=(1.05, 1), loc='upper left', borderaxespad=0.)\n",
    "plt.gcf().set_size_inches(10, 6)\n",
    "plt.show()"
   ]
  },
  {
   "cell_type": "code",
   "execution_count": null,
   "metadata": {},
   "outputs": [],
   "source": []
  }
 ],
 "metadata": {
  "kernelspec": {
   "display_name": "fastapi-env",
   "language": "python",
   "name": "python3"
  },
  "language_info": {
   "codemirror_mode": {
    "name": "ipython",
    "version": 3
   },
   "file_extension": ".py",
   "mimetype": "text/x-python",
   "name": "python",
   "nbconvert_exporter": "python",
   "pygments_lexer": "ipython3",
   "version": "3.8.16"
  },
  "orig_nbformat": 4,
  "vscode": {
   "interpreter": {
    "hash": "1ff0d11ee4050afa0c30aa0b80b39df076b415946a98f170bd2da9a04a2e37a0"
   }
  }
 },
 "nbformat": 4,
 "nbformat_minor": 2
}
