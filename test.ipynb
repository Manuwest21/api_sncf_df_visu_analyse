{
 "cells": [
  {
   "cell_type": "code",
   "execution_count": 3,
   "metadata": {},
   "outputs": [],
   "source": [
    "import pandas as pd"
   ]
  },
  {
   "cell_type": "code",
   "execution_count": 1,
   "metadata": {},
   "outputs": [],
   "source": [
    "api_url = \"https://ressources.data.sncf.com/api/records/1.0/search/\"\n",
    "dataset = \"objets-trouves-gares\"\n",
    "rows = -1\n",
    "sort = \"date\"\n",
    "start = 0\n",
    "facet=[\"date\", \"gc_obo_gare_origine_r_name\", \"gc_obo_type_c\"]\n",
    "refine=[\"date=2021\", \"gc_obo_gare_origine_r_name=Paris Gare du Nord\"]\n",
    "\n",
    "# concaténation de tous les paramètres\n",
    "params = f\"?dataset={dataset}&rows={rows}&sort={sort}&start={start}&facet={facet[0]}&facet={facet[1]}&facet={facet[2]}&refine.{refine[0]}&refine.{refine[1]}\"\n",
    "\n",
    "# construction de l'URL finale\n",
    "url = api_url + params"
   ]
  },
  {
   "cell_type": "code",
   "execution_count": 8,
   "metadata": {},
   "outputs": [
    {
     "data": {
      "text/plain": [
       "'23-04-2022'"
      ]
     },
     "execution_count": 8,
     "metadata": {},
     "output_type": "execute_result"
    }
   ],
   "source": [
    "nom='23-04-2022,59596'\n",
    "nom[:10]\n"
   ]
  },
  {
   "cell_type": "code",
   "execution_count": 24,
   "metadata": {},
   "outputs": [
    {
     "name": "stdout",
     "output_type": "stream",
     "text": [
      "(81632, 10)\n"
     ]
    }
   ],
   "source": [
    "df= pd.read_csv(\"concat.csv\")\n",
    "print(df.shape)\n",
    "dof=df.head()\n",
    "df['fields.date']=df['fields.date'].apply(lambda x : x [:10])\n",
    "# for i in dof.values:\n",
    "#     print (i)"
   ]
  },
  {
   "cell_type": "code",
   "execution_count": 25,
   "metadata": {},
   "outputs": [],
   "source": [
    "df.rename(columns={\"fields.date\":\"date\"},inplace=True)\n",
    "df.rename(columns={\"fields.gc_obo_nature_c\":\"type\"},inplace=True)\n",
    "df.rename(columns={\"fields.gc_obo_gare_origine_r_name\":\"nom_gare\"},inplace=True)\n",
    "dif=df[['date','type','nom_gare']]"
   ]
  },
  {
   "cell_type": "code",
   "execution_count": 16,
   "metadata": {},
   "outputs": [
    {
     "ename": "FileNotFoundError",
     "evalue": "[Errno 2] No such file or directory: 'df.csv'",
     "output_type": "error",
     "traceback": [
      "\u001b[0;31m---------------------------------------------------------------------------\u001b[0m",
      "\u001b[0;31mFileNotFoundError\u001b[0m                         Traceback (most recent call last)",
      "Cell \u001b[0;32mIn[16], line 3\u001b[0m\n\u001b[1;32m      1\u001b[0m \u001b[39mimport\u001b[39;00m \u001b[39mcsv\u001b[39;00m\n\u001b[1;32m      2\u001b[0m \u001b[39mimport\u001b[39;00m \u001b[39msqlite3\u001b[39;00m\n\u001b[0;32m----> 3\u001b[0m \u001b[39mwith\u001b[39;00m \u001b[39mopen\u001b[39;49m(\u001b[39m'\u001b[39;49m\u001b[39mdf.csv\u001b[39;49m\u001b[39m'\u001b[39;49m, \u001b[39m'\u001b[39;49m\u001b[39mr\u001b[39;49m\u001b[39m'\u001b[39;49m) \u001b[39mas\u001b[39;00m file:\n\u001b[1;32m      4\u001b[0m     reader \u001b[39m=\u001b[39m csv\u001b[39m.\u001b[39mreader(file)\n\u001b[1;32m      5\u001b[0m     \u001b[39mfor\u001b[39;00m i \u001b[39min\u001b[39;00m reader:\n",
      "File \u001b[0;32m~/.local/lib/python3.10/site-packages/IPython/core/interactiveshell.py:282\u001b[0m, in \u001b[0;36m_modified_open\u001b[0;34m(file, *args, **kwargs)\u001b[0m\n\u001b[1;32m    275\u001b[0m \u001b[39mif\u001b[39;00m file \u001b[39min\u001b[39;00m {\u001b[39m0\u001b[39m, \u001b[39m1\u001b[39m, \u001b[39m2\u001b[39m}:\n\u001b[1;32m    276\u001b[0m     \u001b[39mraise\u001b[39;00m \u001b[39mValueError\u001b[39;00m(\n\u001b[1;32m    277\u001b[0m         \u001b[39mf\u001b[39m\u001b[39m\"\u001b[39m\u001b[39mIPython won\u001b[39m\u001b[39m'\u001b[39m\u001b[39mt let you open fd=\u001b[39m\u001b[39m{\u001b[39;00mfile\u001b[39m}\u001b[39;00m\u001b[39m by default \u001b[39m\u001b[39m\"\u001b[39m\n\u001b[1;32m    278\u001b[0m         \u001b[39m\"\u001b[39m\u001b[39mas it is likely to crash IPython. If you know what you are doing, \u001b[39m\u001b[39m\"\u001b[39m\n\u001b[1;32m    279\u001b[0m         \u001b[39m\"\u001b[39m\u001b[39myou can use builtins\u001b[39m\u001b[39m'\u001b[39m\u001b[39m open.\u001b[39m\u001b[39m\"\u001b[39m\n\u001b[1;32m    280\u001b[0m     )\n\u001b[0;32m--> 282\u001b[0m \u001b[39mreturn\u001b[39;00m io_open(file, \u001b[39m*\u001b[39;49margs, \u001b[39m*\u001b[39;49m\u001b[39m*\u001b[39;49mkwargs)\n",
      "\u001b[0;31mFileNotFoundError\u001b[0m: [Errno 2] No such file or directory: 'df.csv'"
     ]
    }
   ],
   "source": [
    "import csv\n",
    "import sqlite3\n",
    "with open('df.csv', 'r') as file:\n",
    "    reader = csv.reader(file)\n",
    "    for i in reader:\n",
    "        dati = i['date']\n",
    "        typo = i['type']\n",
    "        gara = i['nom_gare']\n",
    "        connexion = sqlite3.connect(\"bdd.db\")\n",
    "        curseur = connexion.cursor()\n",
    "        curseur.execute(\"\"\"\n",
    "            INSERT INTO objets_trouves (data,typo,nom_gare)\n",
    "            VALUES\n",
    "            ('{}','{}','{}')\n",
    "        \"\"\".format(dati, typo, gara))\n",
    "        connexion.commit()"
   ]
  },
  {
   "cell_type": "code",
   "execution_count": 17,
   "metadata": {},
   "outputs": [
    {
     "ename": "OperationalError",
     "evalue": "near \"identité\": syntax error",
     "output_type": "error",
     "traceback": [
      "\u001b[0;31m---------------------------------------------------------------------------\u001b[0m",
      "\u001b[0;31mOperationalError\u001b[0m                          Traceback (most recent call last)",
      "Cell \u001b[0;32mIn[17], line 7\u001b[0m\n\u001b[1;32m      5\u001b[0m connexion \u001b[39m=\u001b[39m sqlite3\u001b[39m.\u001b[39mconnect(\u001b[39m\"\u001b[39m\u001b[39mbdd.db\u001b[39m\u001b[39m\"\u001b[39m)\n\u001b[1;32m      6\u001b[0m curseur \u001b[39m=\u001b[39m connexion\u001b[39m.\u001b[39mcursor()\n\u001b[0;32m----> 7\u001b[0m curseur\u001b[39m.\u001b[39;49mexecute(\u001b[39m\"\"\"\u001b[39;49m\n\u001b[1;32m      8\u001b[0m \u001b[39m    INSERT INTO objets_trouves (data,typo,nom_gare)\u001b[39;49m\n\u001b[1;32m      9\u001b[0m \u001b[39m    VALUES\u001b[39;49m\n\u001b[1;32m     10\u001b[0m \u001b[39m    (\u001b[39;49m\u001b[39m'\u001b[39;49m\u001b[39m{}\u001b[39;49;00m\u001b[39m'\u001b[39;49m\u001b[39m,\u001b[39;49m\u001b[39m'\u001b[39;49m\u001b[39m{}\u001b[39;49;00m\u001b[39m'\u001b[39;49m\u001b[39m,\u001b[39;49m\u001b[39m'\u001b[39;49m\u001b[39m{}\u001b[39;49;00m\u001b[39m'\u001b[39;49m\u001b[39m)\u001b[39;49m\n\u001b[1;32m     11\u001b[0m \u001b[39m\u001b[39;49m\u001b[39m\"\"\"\u001b[39;49m\u001b[39m.\u001b[39;49mformat(dati, typo, gara))\n\u001b[1;32m     12\u001b[0m connexion\u001b[39m.\u001b[39mcommit()\n",
      "\u001b[0;31mOperationalError\u001b[0m: near \"identité\": syntax error"
     ]
    }
   ],
   "source": [
    "for index, row in df.iterrows():\n",
    "    dati = row['date']\n",
    "    typo = row['type']\n",
    "    gara = row['nom_gare']\n",
    "    connexion = sqlite3.connect(\"bdd.db\")\n",
    "    curseur = connexion.cursor()\n",
    "    curseur.execute(\"\"\"\n",
    "        INSERT INTO objets_trouves (data,typo,nom_gare)\n",
    "        VALUES\n",
    "        ('{}','{}','{}')\n",
    "    \"\"\".format(dati, typo, gara))\n",
    "    connexion.commit()"
   ]
  },
  {
   "cell_type": "code",
   "execution_count": 26,
   "metadata": {},
   "outputs": [],
   "source": [
    "import csv\n",
    "import sqlite3\n",
    "\n",
    "conect= sqlite3.connect(\"bdd2.db\")\n",
    "#conversion du fichier csv en format sql, contenu dans la bdd \"bddeti.db\"\n",
    "\n",
    "dif.to_sql('objets_trouves', conect, if_exists='replace', index=False)\n",
    "\n",
    "conect.close()"
   ]
  },
  {
   "cell_type": "code",
   "execution_count": null,
   "metadata": {},
   "outputs": [],
   "source": [
    "    \n",
    "def modifier_playlist(id:int, nveau_nom:str)->None:\n",
    "    connexion=sqlite3.connect('bddb.db')\n",
    "    curseur= connexion.cursor()\n",
    "    \n",
    "    curseur.execute(\"\"\"\n",
    "                    UPDATE gare\n",
    "                        SET nom = ?\n",
    "                        WHERE id= ?\n",
    "                 \n",
    "                        \"\"\", (nveau_nom, id))\n",
    "    \n",
    "    connexion.commit()\n",
    "    connexion.close()"
   ]
  },
  {
   "cell_type": "code",
   "execution_count": 23,
   "metadata": {},
   "outputs": [],
   "source": [
    "    \n",
    "def modifier_playlist(nom_gare:str, nveau_nom:str)->None:\n",
    "    connexion=sqlite3.connect('bddb.db')\n",
    "    curseur= connexion.cursor()\n",
    "    \n",
    "    curseur.execute(\"\"\"\n",
    "                    UPDATE gare\n",
    "                        SET nom_gare = ?\n",
    "                        WHERE nom_gare= ?\n",
    "                 \n",
    "                        \"\"\", (nveau_nom, nom_gare))\n",
    "    \n",
    "    connexion.commit()\n",
    "    connexion.close()\n",
    "    \n",
    "modifier_playlist('paris est','93300618')"
   ]
  }
 ],
 "metadata": {
  "kernelspec": {
   "display_name": "machinelearning",
   "language": "python",
   "name": "python3"
  },
  "language_info": {
   "codemirror_mode": {
    "name": "ipython",
    "version": 3
   },
   "file_extension": ".py",
   "mimetype": "text/x-python",
   "name": "python",
   "nbconvert_exporter": "python",
   "pygments_lexer": "ipython3",
   "version": "3.10.9"
  },
  "orig_nbformat": 4,
  "vscode": {
   "interpreter": {
    "hash": "abfbbb82e5734ddf6fe9d05af3064de704bc0f7110367d6a6ae63e383d8540d0"
   }
  }
 },
 "nbformat": 4,
 "nbformat_minor": 2
}
