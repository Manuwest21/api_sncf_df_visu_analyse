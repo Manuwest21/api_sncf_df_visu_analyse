{
 "cells": [
  {
   "cell_type": "code",
   "execution_count": 20,
   "metadata": {},
   "outputs": [
    {
     "data": {
      "text/plain": [
       "[(81632, 11)]"
      ]
     },
     "execution_count": 20,
     "metadata": {},
     "output_type": "execute_result"
    }
   ],
   "source": [
    "import sqlite3 \n",
    "import pandas as pd\n",
    "import plotly.express as px\n",
    "import matplotlib.pyplot as plt\n",
    "connexion=sqlite3.connect('bddt.db')\n",
    "curseur= connexion.cursor()\n",
    "    \n",
    "curseur.execute(\"\"\"\n",
    "                    SELECT COUNT(id), meteo.temperature\n",
    "                    FROM objets_trouves\n",
    "                    INNER JOIN meteo ON meteo.date=objets_trouves.date_meteo\n",
    "                    \n",
    "                     \n",
    "                    \n",
    "                    \"\"\")\n",
    "rslt=curseur.fetchall()\n",
    "rslt"
   ]
  },
  {
   "cell_type": "code",
   "execution_count": null,
   "metadata": {},
   "outputs": [],
   "source": []
  },
  {
   "cell_type": "code",
   "execution_count": null,
   "metadata": {},
   "outputs": [],
   "source": [
    "import sqlite3 \n",
    "import pandas as pd\n",
    "import plotly.express as px\n",
    "connexion=sqlite3.connect('bddt.db')\n",
    "curseur= connexion.cursor()\n",
    "    \n",
    "curseur.execute(\"\"\"\n",
    "                    SELECT meteo.temperature, COUNT(objets_trouves.id) AS nb_objets\n",
    "                    FROM objets_trouves\n",
    "                    JOIN meteo ON objets_trouves.date_meteo = meteo.date\n",
    "                    GROUP BY meteo.temperature\n",
    "                    \n",
    "                     \n",
    "                    \n",
    "                    \"\"\")\n",
    "data=curseur.fetchall()"
   ]
  },
  {
   "cell_type": "code",
   "execution_count": 21,
   "metadata": {},
   "outputs": [
    {
     "data": {
      "image/png": "[encoded data removed]",
      "text/plain": [
       "<Figure size 640x480 with 1 Axes>"
      ]
     },
     "metadata": {},
     "output_type": "display_data"
    }
   ],
   "source": [
    "import sqlite3 \n",
    "import pandas as pd\n",
    "import plotly.express as px\n",
    "connexion=sqlite3.connect('bddt.db')\n",
    "curseur= connexion.cursor()\n",
    "    \n",
    "curseur.execute(\"\"\"\n",
    "                    SELECT meteo.temperature, COUNT(objets_trouves.id) AS nb_objets\n",
    "                    FROM objets_trouves\n",
    "                    JOIN meteo ON objets_trouves.date_meteo = meteo.date\n",
    "                    GROUP BY meteo.temperature\n",
    "                    \n",
    "                     \n",
    "                    \n",
    "                    \"\"\")\n",
    "data=curseur.fetchall()\n",
    "\n",
    "x = [point[0] for point in data]\n",
    "y = [point[1] for point in data]\n",
    "\n",
    "# Création du scatter plot\n",
    "plt.scatter(x, y)\n",
    "\n",
    "# Affichage du scatter plot\n",
    "plt.show()\n",
    "# fig = px.scatter(df, x=\"temperature\", y=\"nb_objets\")\n",
    "\n",
    "# # Afficher le graphique\n",
    "# fig.show()"
   ]
  },
  {
   "cell_type": "code",
   "execution_count": null,
   "metadata": {},
   "outputs": [],
   "source": [
    "#oui il y a une corrélation entre nbre d'objets trouvés et météo: quand il fait térs chaud et trés foid, peu d'objets perdus"
   ]
  },
  {
   "cell_type": "code",
   "execution_count": 14,
   "metadata": {},
   "outputs": [
    {
     "ename": "ValueError",
     "evalue": "Mime type rendering requires nbformat>=4.2.0 but it is not installed",
     "output_type": "error",
     "traceback": [
      "\u001b[0;31m---------------------------------------------------------------------------\u001b[0m",
      "\u001b[0;31mValueError\u001b[0m                                Traceback (most recent call last)",
      "Cell \u001b[0;32mIn[14], line 18\u001b[0m\n\u001b[1;32m     15\u001b[0m fig \u001b[39m=\u001b[39m px\u001b[39m.\u001b[39mscatter(df, x\u001b[39m=\u001b[39m\u001b[39m\"\u001b[39m\u001b[39mtemperature\u001b[39m\u001b[39m\"\u001b[39m, y\u001b[39m=\u001b[39m\u001b[39m\"\u001b[39m\u001b[39mnb_objets\u001b[39m\u001b[39m\"\u001b[39m)\n\u001b[1;32m     17\u001b[0m \u001b[39m# Afficher le graphique\u001b[39;00m\n\u001b[0;32m---> 18\u001b[0m fig\u001b[39m.\u001b[39;49mshow()\n",
      "File \u001b[0;32m~/miniconda3/envs/fastapi-env/lib/python3.8/site-packages/plotly/basedatatypes.py:3398\u001b[0m, in \u001b[0;36mBaseFigure.show\u001b[0;34m(self, *args, **kwargs)\u001b[0m\n\u001b[1;32m   3365\u001b[0m \u001b[39m\"\"\"\u001b[39;00m\n\u001b[1;32m   3366\u001b[0m \u001b[39mShow a figure using either the default renderer(s) or the renderer(s)\u001b[39;00m\n\u001b[1;32m   3367\u001b[0m \u001b[39mspecified by the renderer argument\u001b[39;00m\n\u001b[0;32m   (...)\u001b[0m\n\u001b[1;32m   3394\u001b[0m \u001b[39mNone\u001b[39;00m\n\u001b[1;32m   3395\u001b[0m \u001b[39m\"\"\"\u001b[39;00m\n\u001b[1;32m   3396\u001b[0m \u001b[39mimport\u001b[39;00m \u001b[39mplotly\u001b[39;00m\u001b[39m.\u001b[39;00m\u001b[39mio\u001b[39;00m \u001b[39mas\u001b[39;00m \u001b[39mpio\u001b[39;00m\n\u001b[0;32m-> 3398\u001b[0m \u001b[39mreturn\u001b[39;00m pio\u001b[39m.\u001b[39;49mshow(\u001b[39mself\u001b[39;49m, \u001b[39m*\u001b[39;49margs, \u001b[39m*\u001b[39;49m\u001b[39m*\u001b[39;49mkwargs)\n",
      "File \u001b[0;32m~/miniconda3/envs/fastapi-env/lib/python3.8/site-packages/plotly/io/_renderers.py:396\u001b[0m, in \u001b[0;36mshow\u001b[0;34m(fig, renderer, validate, **kwargs)\u001b[0m\n\u001b[1;32m    391\u001b[0m         \u001b[39mraise\u001b[39;00m \u001b[39mValueError\u001b[39;00m(\n\u001b[1;32m    392\u001b[0m             \u001b[39m\"\u001b[39m\u001b[39mMime type rendering requires ipython but it is not installed\u001b[39m\u001b[39m\"\u001b[39m\n\u001b[1;32m    393\u001b[0m         )\n\u001b[1;32m    395\u001b[0m     \u001b[39mif\u001b[39;00m \u001b[39mnot\u001b[39;00m nbformat \u001b[39mor\u001b[39;00m LooseVersion(nbformat\u001b[39m.\u001b[39m__version__) \u001b[39m<\u001b[39m LooseVersion(\u001b[39m\"\u001b[39m\u001b[39m4.2.0\u001b[39m\u001b[39m\"\u001b[39m):\n\u001b[0;32m--> 396\u001b[0m         \u001b[39mraise\u001b[39;00m \u001b[39mValueError\u001b[39;00m(\n\u001b[1;32m    397\u001b[0m             \u001b[39m\"\u001b[39m\u001b[39mMime type rendering requires nbformat>=4.2.0 but it is not installed\u001b[39m\u001b[39m\"\u001b[39m\n\u001b[1;32m    398\u001b[0m         )\n\u001b[1;32m    400\u001b[0m     ipython_display\u001b[39m.\u001b[39mdisplay(bundle, raw\u001b[39m=\u001b[39m\u001b[39mTrue\u001b[39;00m)\n\u001b[1;32m    402\u001b[0m \u001b[39m# external renderers\u001b[39;00m\n",
      "\u001b[0;31mValueError\u001b[0m: Mime type rendering requires nbformat>=4.2.0 but it is not installed"
     ]
    }
   ],
   "source": [
    "connexion = sqlite3.connect(\"bddt.db\")\n",
    "\n",
    "# Requête SQL pour récupérer les données\n",
    "requete = \"\"\"\n",
    "    SELECT meteo.temperature, COUNT(objets_trouves.id) AS nb_objets\n",
    "    FROM objets_trouves\n",
    "    JOIN meteo ON objets_trouves.date_meteo = meteo.date\n",
    "    GROUP BY meteo.temperature\n",
    "\"\"\"\n",
    "\n",
    "# Charger les données dans un DataFrame\n",
    "df = pd.read_sql_query(requete, connexion)\n",
    "\n",
    "# Créer le scatterplot avec Plotly Express\n",
    "fig = px.scatter(df, x=\"temperature\", y=\"nb_objets\")\n",
    "\n",
    "# Afficher le graphique\n",
    "fig.show()"
   ]
  }
 ],
 "metadata": {
  "kernelspec": {
   "display_name": "fastapi-env",
   "language": "python",
   "name": "python3"
  },
  "language_info": {
   "codemirror_mode": {
    "name": "ipython",
    "version": 3
   },
   "file_extension": ".py",
   "mimetype": "text/x-python",
   "name": "python",
   "nbconvert_exporter": "python",
   "pygments_lexer": "ipython3",
   "version": "3.8.16"
  },
  "orig_nbformat": 4,
  "vscode": {
   "interpreter": {
    "hash": "1ff0d11ee4050afa0c30aa0b80b39df076b415946a98f170bd2da9a04a2e37a0"
   }
  }
 },
 "nbformat": 4,
 "nbformat_minor": 2
}
